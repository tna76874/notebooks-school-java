{
 "cells": [
  {
   "cell_type": "markdown",
   "id": "c702b105",
   "metadata": {},
   "source": [
    "### Share Jupyter Notebook\n",
    "**Does not work on Binder:**"
   ]
  },
  {
   "cell_type": "code",
   "execution_count": null,
   "id": "5b1425e4",
   "metadata": {},
   "outputs": [],
   "source": [
    "from tnamodules.tunnel import *\n",
    "jtunnel = JupyterTunnel()"
   ]
  },
  {
   "cell_type": "code",
   "execution_count": null,
   "id": "b32d5b2d",
   "metadata": {},
   "outputs": [],
   "source": [
    "jtunnel.stop_tunnel()"
   ]
  }
 ],
 "metadata": {
  "kernelspec": {
   "display_name": "Python 3 (ipykernel)",
   "language": "python",
   "name": "python3"
  },
  "language_info": {
   "codemirror_mode": {
    "name": "ipython",
    "version": 3
   },
   "file_extension": ".py",
   "mimetype": "text/x-python",
   "name": "python",
   "nbconvert_exporter": "python",
   "pygments_lexer": "ipython3",
   "version": "3.8.13"
  }
 },
 "nbformat": 4,
 "nbformat_minor": 5
}
